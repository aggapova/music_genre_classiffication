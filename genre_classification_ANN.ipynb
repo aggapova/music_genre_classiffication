{
  "nbformat": 4,
  "nbformat_minor": 0,
  "metadata": {
    "colab": {
      "provenance": [],
      "mount_file_id": "1GOxP4M72QWD1XcpvE3pN0lvhehr0GILZ",
      "authorship_tag": "ABX9TyO7m44odQsrPRZYq/UCflwT",
      "include_colab_link": true
    },
    "kernelspec": {
      "name": "python3",
      "display_name": "Python 3"
    },
    "language_info": {
      "name": "python"
    }
  },
  "cells": [
    {
      "cell_type": "markdown",
      "metadata": {
        "id": "view-in-github",
        "colab_type": "text"
      },
      "source": [
        "<a href=\"https://colab.research.google.com/github/aggapova/music_genre_classiffication/blob/main/genre_classification_ANN.ipynb\" target=\"_parent\"><img src=\"https://colab.research.google.com/assets/colab-badge.svg\" alt=\"Open In Colab\"/></a>"
      ]
    },
    {
      "cell_type": "markdown",
      "source": [
        "# Building an Artificial Neural Network(ANN) for the music genre classification."
      ],
      "metadata": {
        "id": "WKg8wJmVyQYG"
      }
    },
    {
      "cell_type": "markdown",
      "source": [
        "### 1. Importing  dataset and necessary libraries."
      ],
      "metadata": {
        "id": "gu9HJdEN10NV"
      }
    },
    {
      "cell_type": "code",
      "source": [
        "!pip install datasets"
      ],
      "metadata": {
        "id": "C8H3QVc5PMyh"
      },
      "execution_count": null,
      "outputs": []
    },
    {
      "cell_type": "code",
      "source": [
        "from datasets import load_dataset\n",
        "\n",
        "dataset = load_dataset(\"marsyas/gtzan\")"
      ],
      "metadata": {
        "id": "yKYtJ3mh7FwY"
      },
      "execution_count": null,
      "outputs": []
    },
    {
      "cell_type": "code",
      "source": [
        "import librosa\n",
        "import pandas as pd\n",
        "import numpy as np\n",
        "import matplotlib.pyplot as plt\n",
        "%matplotlib inline\n",
        "import os\n",
        "from PIL import Image\n",
        "import pathlib\n",
        "import csv\n",
        "from sklearn.model_selection import train_test_split\n",
        "from sklearn.preprocessing import LabelEncoder, StandardScaler\n",
        "import keras\n",
        "from keras.models import Sequential\n",
        "import warnings\n",
        "warnings.filterwarnings('ignore')"
      ],
      "metadata": {
        "id": "SfihBIDh0bOT"
      },
      "execution_count": 3,
      "outputs": []
    },
    {
      "cell_type": "markdown",
      "source": [
        "### 2. Converting the audio data files into PNG format images extracting the Spectrogram for every Audio."
      ],
      "metadata": {
        "id": "dsY4l7sX2sZA"
      }
    },
    {
      "cell_type": "code",
      "source": [
        "cmap = plt.get_cmap('inferno')\n",
        "plt.figure(figsize=(8, 8))\n",
        "\n",
        "# Access genres from the loaded dataset\n",
        "genres = dataset['train']['genre']\n",
        "for i in range(len(genres)):\n",
        "    g = genres[i]\n",
        "    pathlib.Path(f'img_data/{g}').mkdir(parents=True, exist_ok=True)\n",
        "\n",
        "    # Access audio data from the loaded dataset\n",
        "    audio_data = dataset['train']['file'][i]\n",
        "    y, sr = librosa.load(audio_data, mono=True, duration=5)\n",
        "\n",
        "    # Generate spectrogram and save as PNG\n",
        "    plt.specgram(y, NFFT=2048, Fs=2, Fc=0, noverlap=128, cmap=cmap, sides='default', mode='default', scale='dB')\n",
        "    plt.axis('off')\n",
        "    plt.savefig(f'img_data/{g}/{i}.png')\n",
        "    plt.clf()"
      ],
      "metadata": {
        "colab": {
          "base_uri": "https://localhost:8080/",
          "height": 35
        },
        "id": "rSmWQi79DoiZ",
        "outputId": "a2fa06ac-48a7-464f-f8f2-fd8d46b8680c"
      },
      "execution_count": 4,
      "outputs": [
        {
          "output_type": "display_data",
          "data": {
            "text/plain": [
              "<Figure size 800x800 with 0 Axes>"
            ]
          },
          "metadata": {}
        }
      ]
    },
    {
      "cell_type": "markdown",
      "source": [
        "### 3. Creating a header for our csv file."
      ],
      "metadata": {
        "id": "qOoEHjIjEZz6"
      }
    },
    {
      "cell_type": "code",
      "source": [
        "header = 'filename chroma_stft rmse spectral_centroid spectral_bandwidth rolloff zero_crossing_rate'\n",
        "for i in range(1, 21):\n",
        "    header += f' mfcc{i}'\n",
        "header += ' label'\n",
        "header = header.split()"
      ],
      "metadata": {
        "id": "XXmXbgMYDwe_"
      },
      "execution_count": 6,
      "outputs": []
    },
    {
      "cell_type": "markdown",
      "source": [
        "### 4. Extracting features from Spectrogram:\n",
        "- MFCC,\n",
        "- Spectral Centroid,\n",
        "- Zero Crossing Rate,\n",
        "- Chroma Frequencies,\n",
        "-  Spectral Roll-off."
      ],
      "metadata": {
        "id": "yHD8pGvMEomS"
      }
    },
    {
      "cell_type": "code",
      "source": [
        "header = [\"filename\", \"chroma_stft\", \"rmse\", \"spectral_centroid\", \"spectral_bandwidth\", \"rolloff\", \"zero_crossing_rate\"] + [f\"mfcc{i}\" for i in range(1, 21)] + [\"genre\"]\n",
        "\n",
        "file_path = 'dataset.csv'\n",
        "with open(file_path, 'w', newline='') as file:\n",
        "    writer = csv.writer(file)\n",
        "    writer.writerow(header)\n",
        "\n",
        "for row in dataset['train']:\n",
        "    audio_data = row['audio']\n",
        "    genre = row['genre']\n",
        "\n",
        "    y, sr = librosa.load(audio_data['path'], mono=True, duration=30)\n",
        "    rmse = np.mean(librosa.feature.rms(y=y))\n",
        "    chroma_stft = np.mean(librosa.feature.chroma_stft(y=y, sr=sr))\n",
        "    spec_cent = np.mean(librosa.feature.spectral_centroid(y=y, sr=sr))\n",
        "    spec_bw = np.mean(librosa.feature.spectral_bandwidth(y=y, sr=sr))\n",
        "    rolloff = np.mean(librosa.feature.spectral_rolloff(y=y, sr=sr))\n",
        "    zcr = np.mean(librosa.feature.zero_crossing_rate(y))\n",
        "    mfcc = np.mean(librosa.feature.mfcc(y=y, sr=sr), axis=1)\n",
        "\n",
        "    to_append = [row['file'], chroma_stft, rmse, spec_cent, spec_bw, rolloff, zcr] + list(mfcc) + [genre]\n",
        "\n",
        "    with open(file_path, 'a', newline='') as file:\n",
        "        writer = csv.writer(file)\n",
        "        writer.writerow(to_append)\n"
      ],
      "metadata": {
        "id": "c8BY9qPoEnVd"
      },
      "execution_count": 7,
      "outputs": []
    },
    {
      "cell_type": "markdown",
      "source": [
        "### 5. Data preprocessing: loading CSV data, label encoding, feature scaling and data split into training and test set."
      ],
      "metadata": {
        "id": "igqkoXcXE5bH"
      }
    },
    {
      "cell_type": "code",
      "source": [
        "data = pd.read_csv('dataset.csv')\n",
        "data.head()\n",
        "data = data.drop(['filename'],axis=1) # Dropping unneccesary columns\n",
        "genre_list = data.iloc[:, -1]\n",
        "encoder = LabelEncoder()#Encoding the Labels\n",
        "y = encoder.fit_transform(genre_list)\n",
        "scaler = StandardScaler()\n",
        "X = scaler.fit_transform(np.array(data.iloc[:, :-1], dtype = float))#Scaling the Feature columns\n",
        "X_train, X_test, y_train, y_test = train_test_split(X, y, test_size=0.2)#Dividing data into training and Testing set"
      ],
      "metadata": {
        "id": "MHi_Vo33E5Kw"
      },
      "execution_count": 8,
      "outputs": []
    },
    {
      "cell_type": "markdown",
      "source": [
        "### 6. Building an ANN model."
      ],
      "metadata": {
        "id": "_2gZEL2cFfMN"
      }
    },
    {
      "cell_type": "code",
      "source": [
        "from keras.layers import Dense\n",
        "from keras import layers\n",
        "\n",
        "model = Sequential()\n",
        "model.add(layers.Dense(256, activation='relu', input_shape=(X_train.shape[1],)))\n",
        "model.add(layers.Dense(128, activation='relu'))\n",
        "model.add(layers.Dense(64, activation='relu'))\n",
        "model.add(layers.Dense(10, activation='softmax'))\n",
        "model.compile(optimizer='adam',\n",
        "              loss='sparse_categorical_crossentropy',\n",
        "              metrics=['accuracy'])"
      ],
      "metadata": {
        "id": "zx16D-HdFk9d"
      },
      "execution_count": 9,
      "outputs": []
    },
    {
      "cell_type": "markdown",
      "source": [
        "### 7. Fit the model."
      ],
      "metadata": {
        "id": "2ndEZ3QZF7hu"
      }
    },
    {
      "cell_type": "code",
      "source": [
        "classifier = model.fit(X_train,\n",
        "                    y_train,\n",
        "                    epochs=100,\n",
        "                    batch_size=128)"
      ],
      "metadata": {
        "id": "L2kPn7caF6qY",
        "colab": {
          "base_uri": "https://localhost:8080/"
        },
        "outputId": "7260cf89-8cdc-4d20-83eb-13b7afc4c61c"
      },
      "execution_count": 10,
      "outputs": [
        {
          "output_type": "stream",
          "name": "stdout",
          "text": [
            "Epoch 1/100\n",
            "7/7 [==============================] - 3s 9ms/step - loss: 2.1896 - accuracy: 0.2691\n",
            "Epoch 2/100\n",
            "7/7 [==============================] - 0s 9ms/step - loss: 1.8689 - accuracy: 0.4180\n",
            "Epoch 3/100\n",
            "7/7 [==============================] - 0s 7ms/step - loss: 1.6429 - accuracy: 0.4406\n",
            "Epoch 4/100\n",
            "7/7 [==============================] - 0s 8ms/step - loss: 1.4535 - accuracy: 0.5031\n",
            "Epoch 5/100\n",
            "7/7 [==============================] - 0s 6ms/step - loss: 1.3161 - accuracy: 0.5532\n",
            "Epoch 6/100\n",
            "7/7 [==============================] - 0s 12ms/step - loss: 1.2151 - accuracy: 0.5795\n",
            "Epoch 7/100\n",
            "7/7 [==============================] - 0s 11ms/step - loss: 1.1189 - accuracy: 0.6108\n",
            "Epoch 8/100\n",
            "7/7 [==============================] - 0s 11ms/step - loss: 1.0441 - accuracy: 0.6308\n",
            "Epoch 9/100\n",
            "7/7 [==============================] - 0s 10ms/step - loss: 0.9691 - accuracy: 0.6884\n",
            "Epoch 10/100\n",
            "7/7 [==============================] - 0s 8ms/step - loss: 0.9205 - accuracy: 0.7171\n",
            "Epoch 11/100\n",
            "7/7 [==============================] - 0s 9ms/step - loss: 0.8692 - accuracy: 0.7196\n",
            "Epoch 12/100\n",
            "7/7 [==============================] - 0s 8ms/step - loss: 0.8221 - accuracy: 0.7422\n",
            "Epoch 13/100\n",
            "7/7 [==============================] - 0s 6ms/step - loss: 0.7737 - accuracy: 0.7597\n",
            "Epoch 14/100\n",
            "7/7 [==============================] - 0s 7ms/step - loss: 0.7356 - accuracy: 0.7710\n",
            "Epoch 15/100\n",
            "7/7 [==============================] - 0s 6ms/step - loss: 0.7039 - accuracy: 0.7760\n",
            "Epoch 16/100\n",
            "7/7 [==============================] - 0s 6ms/step - loss: 0.6693 - accuracy: 0.7885\n",
            "Epoch 17/100\n",
            "7/7 [==============================] - 0s 6ms/step - loss: 0.6432 - accuracy: 0.8110\n",
            "Epoch 18/100\n",
            "7/7 [==============================] - 0s 6ms/step - loss: 0.5917 - accuracy: 0.8285\n",
            "Epoch 19/100\n",
            "7/7 [==============================] - 0s 8ms/step - loss: 0.5831 - accuracy: 0.8235\n",
            "Epoch 20/100\n",
            "7/7 [==============================] - 0s 6ms/step - loss: 0.5460 - accuracy: 0.8373\n",
            "Epoch 21/100\n",
            "7/7 [==============================] - 0s 13ms/step - loss: 0.5209 - accuracy: 0.8436\n",
            "Epoch 22/100\n",
            "7/7 [==============================] - 0s 7ms/step - loss: 0.5023 - accuracy: 0.8536\n",
            "Epoch 23/100\n",
            "7/7 [==============================] - 0s 6ms/step - loss: 0.4780 - accuracy: 0.8661\n",
            "Epoch 24/100\n",
            "7/7 [==============================] - 0s 6ms/step - loss: 0.4667 - accuracy: 0.8686\n",
            "Epoch 25/100\n",
            "7/7 [==============================] - 0s 7ms/step - loss: 0.4340 - accuracy: 0.8811\n",
            "Epoch 26/100\n",
            "7/7 [==============================] - 0s 21ms/step - loss: 0.4015 - accuracy: 0.8861\n",
            "Epoch 27/100\n",
            "7/7 [==============================] - 0s 20ms/step - loss: 0.3788 - accuracy: 0.9011\n",
            "Epoch 28/100\n",
            "7/7 [==============================] - 0s 15ms/step - loss: 0.3593 - accuracy: 0.9199\n",
            "Epoch 29/100\n",
            "7/7 [==============================] - 0s 15ms/step - loss: 0.3442 - accuracy: 0.9099\n",
            "Epoch 30/100\n",
            "7/7 [==============================] - 0s 12ms/step - loss: 0.3317 - accuracy: 0.9237\n",
            "Epoch 31/100\n",
            "7/7 [==============================] - 0s 10ms/step - loss: 0.3183 - accuracy: 0.9186\n",
            "Epoch 32/100\n",
            "7/7 [==============================] - 0s 10ms/step - loss: 0.2891 - accuracy: 0.9299\n",
            "Epoch 33/100\n",
            "7/7 [==============================] - 0s 6ms/step - loss: 0.2842 - accuracy: 0.9374\n",
            "Epoch 34/100\n",
            "7/7 [==============================] - 0s 6ms/step - loss: 0.2628 - accuracy: 0.9424\n",
            "Epoch 35/100\n",
            "7/7 [==============================] - 0s 6ms/step - loss: 0.2557 - accuracy: 0.9437\n",
            "Epoch 36/100\n",
            "7/7 [==============================] - 0s 7ms/step - loss: 0.2351 - accuracy: 0.9562\n",
            "Epoch 37/100\n",
            "7/7 [==============================] - 0s 6ms/step - loss: 0.2402 - accuracy: 0.9462\n",
            "Epoch 38/100\n",
            "7/7 [==============================] - 0s 6ms/step - loss: 0.2455 - accuracy: 0.9374\n",
            "Epoch 39/100\n",
            "7/7 [==============================] - 0s 6ms/step - loss: 0.2191 - accuracy: 0.9562\n",
            "Epoch 40/100\n",
            "7/7 [==============================] - 0s 10ms/step - loss: 0.1985 - accuracy: 0.9549\n",
            "Epoch 41/100\n",
            "7/7 [==============================] - 0s 7ms/step - loss: 0.1905 - accuracy: 0.9662\n",
            "Epoch 42/100\n",
            "7/7 [==============================] - 0s 7ms/step - loss: 0.1788 - accuracy: 0.9625\n",
            "Epoch 43/100\n",
            "7/7 [==============================] - 0s 7ms/step - loss: 0.1644 - accuracy: 0.9712\n",
            "Epoch 44/100\n",
            "7/7 [==============================] - 0s 10ms/step - loss: 0.1507 - accuracy: 0.9787\n",
            "Epoch 45/100\n",
            "7/7 [==============================] - 0s 6ms/step - loss: 0.1460 - accuracy: 0.9825\n",
            "Epoch 46/100\n",
            "7/7 [==============================] - 0s 11ms/step - loss: 0.1339 - accuracy: 0.9837\n",
            "Epoch 47/100\n",
            "7/7 [==============================] - 0s 7ms/step - loss: 0.1302 - accuracy: 0.9825\n",
            "Epoch 48/100\n",
            "7/7 [==============================] - 0s 7ms/step - loss: 0.1267 - accuracy: 0.9775\n",
            "Epoch 49/100\n",
            "7/7 [==============================] - 0s 7ms/step - loss: 0.1239 - accuracy: 0.9812\n",
            "Epoch 50/100\n",
            "7/7 [==============================] - 0s 6ms/step - loss: 0.1137 - accuracy: 0.9825\n",
            "Epoch 51/100\n",
            "7/7 [==============================] - 0s 6ms/step - loss: 0.1147 - accuracy: 0.9862\n",
            "Epoch 52/100\n",
            "7/7 [==============================] - 0s 8ms/step - loss: 0.1058 - accuracy: 0.9862\n",
            "Epoch 53/100\n",
            "7/7 [==============================] - 0s 7ms/step - loss: 0.0930 - accuracy: 0.9925\n",
            "Epoch 54/100\n",
            "7/7 [==============================] - 0s 7ms/step - loss: 0.0863 - accuracy: 0.9925\n",
            "Epoch 55/100\n",
            "7/7 [==============================] - 0s 7ms/step - loss: 0.0807 - accuracy: 0.9937\n",
            "Epoch 56/100\n",
            "7/7 [==============================] - 0s 11ms/step - loss: 0.0943 - accuracy: 0.9875\n",
            "Epoch 57/100\n",
            "7/7 [==============================] - 0s 18ms/step - loss: 0.0846 - accuracy: 0.9862\n",
            "Epoch 58/100\n",
            "7/7 [==============================] - 0s 6ms/step - loss: 0.0840 - accuracy: 0.9937\n",
            "Epoch 59/100\n",
            "7/7 [==============================] - 0s 6ms/step - loss: 0.0724 - accuracy: 0.9962\n",
            "Epoch 60/100\n",
            "7/7 [==============================] - 0s 11ms/step - loss: 0.0651 - accuracy: 0.9937\n",
            "Epoch 61/100\n",
            "7/7 [==============================] - 0s 11ms/step - loss: 0.0625 - accuracy: 0.9950\n",
            "Epoch 62/100\n",
            "7/7 [==============================] - 0s 8ms/step - loss: 0.0709 - accuracy: 0.9900\n",
            "Epoch 63/100\n",
            "7/7 [==============================] - 0s 7ms/step - loss: 0.0629 - accuracy: 0.9937\n",
            "Epoch 64/100\n",
            "7/7 [==============================] - 0s 14ms/step - loss: 0.0559 - accuracy: 0.9962\n",
            "Epoch 65/100\n",
            "7/7 [==============================] - 0s 18ms/step - loss: 0.0495 - accuracy: 0.9962\n",
            "Epoch 66/100\n",
            "7/7 [==============================] - 0s 12ms/step - loss: 0.0458 - accuracy: 0.9987\n",
            "Epoch 67/100\n",
            "7/7 [==============================] - 0s 18ms/step - loss: 0.0431 - accuracy: 0.9987\n",
            "Epoch 68/100\n",
            "7/7 [==============================] - 0s 16ms/step - loss: 0.0474 - accuracy: 0.9987\n",
            "Epoch 69/100\n",
            "7/7 [==============================] - 0s 13ms/step - loss: 0.0438 - accuracy: 0.9975\n",
            "Epoch 70/100\n",
            "7/7 [==============================] - 0s 12ms/step - loss: 0.0408 - accuracy: 0.9975\n",
            "Epoch 71/100\n",
            "7/7 [==============================] - 0s 14ms/step - loss: 0.0505 - accuracy: 0.9950\n",
            "Epoch 72/100\n",
            "7/7 [==============================] - 0s 13ms/step - loss: 0.0416 - accuracy: 0.9987\n",
            "Epoch 73/100\n",
            "7/7 [==============================] - 0s 8ms/step - loss: 0.0379 - accuracy: 0.9987\n",
            "Epoch 74/100\n",
            "7/7 [==============================] - 0s 10ms/step - loss: 0.0344 - accuracy: 0.9987\n",
            "Epoch 75/100\n",
            "7/7 [==============================] - 0s 10ms/step - loss: 0.0350 - accuracy: 0.9987\n",
            "Epoch 76/100\n",
            "7/7 [==============================] - 0s 6ms/step - loss: 0.0313 - accuracy: 0.9975\n",
            "Epoch 77/100\n",
            "7/7 [==============================] - 0s 7ms/step - loss: 0.0286 - accuracy: 0.9987\n",
            "Epoch 78/100\n",
            "7/7 [==============================] - 0s 8ms/step - loss: 0.0264 - accuracy: 0.9987\n",
            "Epoch 79/100\n",
            "7/7 [==============================] - 0s 8ms/step - loss: 0.0257 - accuracy: 0.9987\n",
            "Epoch 80/100\n",
            "7/7 [==============================] - 0s 6ms/step - loss: 0.0262 - accuracy: 0.9975\n",
            "Epoch 81/100\n",
            "7/7 [==============================] - 0s 7ms/step - loss: 0.0239 - accuracy: 0.9987\n",
            "Epoch 82/100\n",
            "7/7 [==============================] - 0s 7ms/step - loss: 0.0235 - accuracy: 0.9987\n",
            "Epoch 83/100\n",
            "7/7 [==============================] - 0s 6ms/step - loss: 0.0231 - accuracy: 0.9987\n",
            "Epoch 84/100\n",
            "7/7 [==============================] - 0s 6ms/step - loss: 0.0220 - accuracy: 0.9975\n",
            "Epoch 85/100\n",
            "7/7 [==============================] - 0s 6ms/step - loss: 0.0213 - accuracy: 0.9987\n",
            "Epoch 86/100\n",
            "7/7 [==============================] - 0s 6ms/step - loss: 0.0206 - accuracy: 0.9975\n",
            "Epoch 87/100\n",
            "7/7 [==============================] - 0s 6ms/step - loss: 0.0199 - accuracy: 0.9987\n",
            "Epoch 88/100\n",
            "7/7 [==============================] - 0s 6ms/step - loss: 0.0214 - accuracy: 0.9987\n",
            "Epoch 89/100\n",
            "7/7 [==============================] - 0s 7ms/step - loss: 0.0216 - accuracy: 0.9975\n",
            "Epoch 90/100\n",
            "7/7 [==============================] - 0s 6ms/step - loss: 0.0184 - accuracy: 0.9987\n",
            "Epoch 91/100\n",
            "7/7 [==============================] - 0s 11ms/step - loss: 0.0186 - accuracy: 0.9975\n",
            "Epoch 92/100\n",
            "7/7 [==============================] - 0s 14ms/step - loss: 0.0179 - accuracy: 0.9975\n",
            "Epoch 93/100\n",
            "7/7 [==============================] - 0s 11ms/step - loss: 0.0172 - accuracy: 0.9975\n",
            "Epoch 94/100\n",
            "7/7 [==============================] - 0s 13ms/step - loss: 0.0159 - accuracy: 0.9987\n",
            "Epoch 95/100\n",
            "7/7 [==============================] - 0s 16ms/step - loss: 0.0169 - accuracy: 0.9987\n",
            "Epoch 96/100\n",
            "7/7 [==============================] - 0s 9ms/step - loss: 0.0192 - accuracy: 0.9975\n",
            "Epoch 97/100\n",
            "7/7 [==============================] - 0s 7ms/step - loss: 0.0178 - accuracy: 0.9987\n",
            "Epoch 98/100\n",
            "7/7 [==============================] - 0s 7ms/step - loss: 0.0173 - accuracy: 0.9987\n",
            "Epoch 99/100\n",
            "7/7 [==============================] - 0s 7ms/step - loss: 0.0202 - accuracy: 0.9987\n",
            "Epoch 100/100\n",
            "7/7 [==============================] - 0s 8ms/step - loss: 0.0149 - accuracy: 0.9987\n"
          ]
        }
      ]
    },
    {
      "cell_type": "code",
      "source": [
        "evaluation_result = model.evaluate(X_test, y_test)\n",
        "\n",
        "# Print the evaluation result\n",
        "print(\"Test Loss:\", evaluation_result[0])\n",
        "print(\"Test Accuracy:\", evaluation_result[1])"
      ],
      "metadata": {
        "colab": {
          "base_uri": "https://localhost:8080/"
        },
        "id": "bWAm1Jq7MaqN",
        "outputId": "b1f0a01e-95c8-445d-eb58-6c1af36c3f42"
      },
      "execution_count": 11,
      "outputs": [
        {
          "output_type": "stream",
          "name": "stdout",
          "text": [
            "7/7 [==============================] - 0s 3ms/step - loss: 1.5973 - accuracy: 0.6650\n",
            "Test Loss: 1.5972604751586914\n",
            "Test Accuracy: 0.6650000214576721\n"
          ]
        }
      ]
    }
  ]
}