{
  "nbformat": 4,
  "nbformat_minor": 0,
  "metadata": {
    "colab": {
      "provenance": [],
      "mount_file_id": "1GOxP4M72QWD1XcpvE3pN0lvhehr0GILZ",
      "authorship_tag": "ABX9TyPNUL1VMtrSmyCOMI9tgS7S",
      "include_colab_link": true
    },
    "kernelspec": {
      "name": "python3",
      "display_name": "Python 3"
    },
    "language_info": {
      "name": "python"
    }
  },
  "cells": [
    {
      "cell_type": "markdown",
      "metadata": {
        "id": "view-in-github",
        "colab_type": "text"
      },
      "source": [
        "<a href=\"https://colab.research.google.com/github/aggapova/audio_data_analysis_DL/blob/main/audio_data_analysis.ipynb\" target=\"_parent\"><img src=\"https://colab.research.google.com/assets/colab-badge.svg\" alt=\"Open In Colab\"/></a>"
      ]
    },
    {
      "cell_type": "markdown",
      "source": [
        "## Audio Data Analysis Using Deep Learning"
      ],
      "metadata": {
        "id": "WKg8wJmVyQYG"
      }
    },
    {
      "cell_type": "markdown",
      "source": [
        "### 1. Importing dataset and necessary libraries."
      ],
      "metadata": {
        "id": "gu9HJdEN10NV"
      }
    },
    {
      "cell_type": "code",
      "source": [
        "import librosa\n",
        "import pandas as pd\n",
        "import numpy as np\n",
        "import matplotlib.pyplot as plt\n",
        "%matplotlib inline\n",
        "import os\n",
        "from PIL import Image\n",
        "import pathlib\n",
        "import csv\n",
        "from sklearn.model_selection import train_test_split\n",
        "from sklearn.preprocessing import LabelEncoder, StandardScaler\n",
        "import keras\n",
        "from keras.models import Sequential\n",
        "import warnings\n",
        "warnings.filterwarnings('ignore')"
      ],
      "metadata": {
        "id": "SfihBIDh0bOT"
      },
      "execution_count": 6,
      "outputs": []
    },
    {
      "cell_type": "markdown",
      "source": [
        "### 2. Converting the audio data files into PNG format images extracting the Spectrogram for every Audio."
      ],
      "metadata": {
        "id": "dsY4l7sX2sZA"
      }
    },
    {
      "cell_type": "code",
      "source": [],
      "metadata": {
        "id": "yKYtJ3mh7FwY"
      },
      "execution_count": null,
      "outputs": []
    }
  ]
}